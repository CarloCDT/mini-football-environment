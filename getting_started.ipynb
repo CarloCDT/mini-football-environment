{
 "cells": [
  {
   "cell_type": "code",
   "execution_count": 2,
   "metadata": {},
   "outputs": [],
   "source": [
    "import numpy as np\n",
    "from tqdm import tqdm\n",
    "from mlagents_envs.base_env import ActionTuple\n",
    "from mlagents_envs.environment import UnityEnvironment\n",
    "from mlagents_envs.side_channel.engine_configuration_channel import EngineConfigurationChannel"
   ]
  },
  {
   "attachments": {},
   "cell_type": "markdown",
   "metadata": {},
   "source": [
    "# Random Action"
   ]
  },
  {
   "cell_type": "code",
   "execution_count": 3,
   "metadata": {},
   "outputs": [
    {
     "data": {
      "text/plain": [
       "(array([[0.83975357, 0.7046182 ]], dtype=float32),\n",
       " array([[0.]], dtype=float32))"
      ]
     },
     "execution_count": 3,
     "metadata": {},
     "output_type": "execute_result"
    }
   ],
   "source": [
    "def get_random_action():\n",
    "    continuous_actions = np.random.uniform(-1, 1, size = 2).reshape(1,2).astype(np.float32)\n",
    "    discrete_actions = np.array([np.random.randint(2)]).reshape(1,1).astype(np.float32)\n",
    "    return continuous_actions, discrete_actions\n",
    "\n",
    "# Sample Action\n",
    "get_random_action()"
   ]
  },
  {
   "cell_type": "markdown",
   "metadata": {},
   "source": [
    "# Load Environment"
   ]
  },
  {
   "cell_type": "code",
   "execution_count": 4,
   "metadata": {},
   "outputs": [],
   "source": [
    "# This will open the environment\n",
    "channel = EngineConfigurationChannel()\n",
    "env = UnityEnvironment('./mini_football_windows/Mini-Football-Env.exe', side_channels=[channel])"
   ]
  },
  {
   "cell_type": "code",
   "execution_count": 5,
   "metadata": {},
   "outputs": [],
   "source": [
    "channel.set_configuration_parameters(\n",
    "    width= 848,\n",
    "    height= 480,\n",
    "    quality_level= 5,\n",
    "    time_scale= 1,\n",
    "    target_frame_rate= -1,\n",
    "    capture_frame_rate= 60,\n",
    "    )"
   ]
  },
  {
   "cell_type": "code",
   "execution_count": 6,
   "metadata": {},
   "outputs": [],
   "source": [
    "env.step()\n",
    "behavior_name = list(env.behavior_specs)[0]\n",
    "\n",
    "def play_episode():\n",
    "    env.reset()\n",
    "\n",
    "    decision_steps, terminal_steps = env.get_steps(behavior_name)\n",
    "    done = False\n",
    "    step = 0\n",
    "    reward = 0\n",
    "\n",
    "    while not done:\n",
    "        \n",
    "        step += 1\n",
    "\n",
    "        state = decision_steps.obs[0][0]\n",
    "        reward += decision_steps.reward[0]\n",
    "\n",
    "        actions = get_brain_action(state)\n",
    "        action = ActionTuple(actions[0], actions[1])\n",
    "        #action = ActionTuple(get_random_action()[0], get_random_action()[1])\n",
    "        env.set_actions(behavior_name=behavior_name, action=action)\n",
    "        env.step()\n",
    "\n",
    "        decision_steps, terminal_steps = env.get_steps(behavior_name)\n",
    "\n",
    "        for agent_id in terminal_steps:\n",
    "            reward += terminal_steps.reward[0]\n",
    "            done = True\n",
    "\n",
    "    return reward"
   ]
  },
  {
   "cell_type": "code",
   "execution_count": 8,
   "metadata": {},
   "outputs": [
    {
     "name": "stderr",
     "output_type": "stream",
     "text": [
      "100%|██████████| 100/100 [03:40<00:00,  2.20s/it]"
     ]
    },
    {
     "name": "stdout",
     "output_type": "stream",
     "text": [
      "0.9694110007055133\n"
     ]
    },
    {
     "name": "stderr",
     "output_type": "stream",
     "text": [
      "\n"
     ]
    }
   ],
   "source": [
    "env.reset()\n",
    "all_rewards = []\n",
    "for i in tqdm(range(100)):\n",
    "    all_rewards.append(play_episode())\n",
    "\n",
    "print(np.mean(all_rewards))"
   ]
  }
 ],
 "metadata": {
  "kernelspec": {
   "display_name": "rl-unity",
   "language": "python",
   "name": "python3"
  },
  "language_info": {
   "codemirror_mode": {
    "name": "ipython",
    "version": 3
   },
   "file_extension": ".py",
   "mimetype": "text/x-python",
   "name": "python",
   "nbconvert_exporter": "python",
   "pygments_lexer": "ipython3",
   "version": "3.9.13"
  },
  "orig_nbformat": 4,
  "vscode": {
   "interpreter": {
    "hash": "56b88cc66ce22b069d89fcd003cc6f13ce5bcd921cd27810ce44aaafd5c8bba8"
   }
  }
 },
 "nbformat": 4,
 "nbformat_minor": 2
}
