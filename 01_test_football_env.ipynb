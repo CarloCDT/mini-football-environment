{
 "cells": [
  {
   "cell_type": "code",
   "execution_count": 1,
   "metadata": {},
   "outputs": [],
   "source": [
    "from mini_football_env import MiniFootballEnv\n",
    "from mini_football_agent import MiniFootballAgent\n",
    "\n",
    "import numpy as np\n",
    "from tqdm import tqdm"
   ]
  },
  {
   "cell_type": "code",
   "execution_count": 2,
   "metadata": {},
   "outputs": [],
   "source": [
    "# Make Environment\n",
    "env = MiniFootballEnv()\n",
    "\n",
    "# Set channel config\n",
    "env.set_channel_params(\n",
    "    width=848, \n",
    "    height=480, \n",
    "    quality_level=1, \n",
    "    time_scale=100, \n",
    "    target_frame_rate=-1, \n",
    "    capture_frame_rate=60\n",
    "    )"
   ]
  },
  {
   "cell_type": "code",
   "execution_count": 3,
   "metadata": {},
   "outputs": [],
   "source": [
    "# Load Trained Agent\n",
    "agent = MiniFootballAgent()\n",
    "agent.load(path=\"trained_brains/FootballPlayer.onnx\")"
   ]
  },
  {
   "attachments": {},
   "cell_type": "markdown",
   "metadata": {},
   "source": [
    "## Test Agent in environment"
   ]
  },
  {
   "cell_type": "code",
   "execution_count": 4,
   "metadata": {},
   "outputs": [
    {
     "name": "stderr",
     "output_type": "stream",
     "text": [
      "100%|██████████| 100/100 [02:54<00:00,  1.75s/it]"
     ]
    },
    {
     "name": "stdout",
     "output_type": "stream",
     "text": [
      "Average Reward:  0.9568079845419561\n"
     ]
    },
    {
     "name": "stderr",
     "output_type": "stream",
     "text": [
      "\n"
     ]
    }
   ],
   "source": [
    "all_rewards = []\n",
    "\n",
    "for _ in tqdm(range(100)):\n",
    "\n",
    "    terminated = False\n",
    "    steps = 0\n",
    "    episode_reward = 0\n",
    "    observation = env.state\n",
    "\n",
    "    while not terminated:\n",
    "        \n",
    "        action = agent.act(observation)\n",
    "        \n",
    "        # Skip 5 Frames\n",
    "        for _ in range(5):\n",
    "            \n",
    "            observation, reward, terminated, _, _ = env.step(action)\n",
    "            episode_reward += reward\n",
    "            steps += 1\n",
    "\n",
    "            if terminated:\n",
    "                break\n",
    "\n",
    "    all_rewards.append(episode_reward)\n",
    "\n",
    "print(\"Average Reward: \", np.mean(all_rewards))"
   ]
  }
 ],
 "metadata": {
  "kernelspec": {
   "display_name": "rl-unity",
   "language": "python",
   "name": "python3"
  },
  "language_info": {
   "codemirror_mode": {
    "name": "ipython",
    "version": 3
   },
   "file_extension": ".py",
   "mimetype": "text/x-python",
   "name": "python",
   "nbconvert_exporter": "python",
   "pygments_lexer": "ipython3",
   "version": "3.9.13 (tags/v3.9.13:6de2ca5, May 17 2022, 16:36:42) [MSC v.1929 64 bit (AMD64)]"
  },
  "orig_nbformat": 4,
  "vscode": {
   "interpreter": {
    "hash": "56b88cc66ce22b069d89fcd003cc6f13ce5bcd921cd27810ce44aaafd5c8bba8"
   }
  }
 },
 "nbformat": 4,
 "nbformat_minor": 2
}
