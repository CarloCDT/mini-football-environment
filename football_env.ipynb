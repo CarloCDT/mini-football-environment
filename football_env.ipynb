{
 "cells": [
  {
   "cell_type": "code",
   "execution_count": 1,
   "metadata": {},
   "outputs": [],
   "source": [
    "from abc import ABC, abstractmethod\n",
    "from mlagents_envs.base_env import ActionTuple\n",
    "from mlagents_envs.side_channel.engine_configuration_channel import EngineConfigurationChannel\n",
    "from mlagents_envs.environment import UnityEnvironment\n",
    "import numpy as np\n",
    "from tqdm import tqdm\n",
    "\n",
    "class UnityEnvironmentAbstract(ABC):\n",
    "    @abstractmethod\n",
    "    def step(action):\n",
    "        pass\n",
    "\n",
    "    @abstractmethod\n",
    "    def reset():\n",
    "        pass\n",
    "\n",
    "    @abstractmethod\n",
    "    def close():\n",
    "        pass"
   ]
  },
  {
   "cell_type": "code",
   "execution_count": 2,
   "metadata": {},
   "outputs": [],
   "source": [
    "class MiniFootballEnv(UnityEnvironmentAbstract):\n",
    "    def __init__(self, path='./mini_football_windows/Mini Football Environment.exe'):\n",
    "        self.channel = EngineConfigurationChannel()\n",
    "        self.env = UnityEnvironment(path, seed=42, side_channels=[self.channel])\n",
    "        self.state = None\n",
    "\n",
    "        self.env.step()\n",
    "        self.behavior_name = list(self.env.behavior_specs)[0]\n",
    "        \n",
    "        self.reset()\n",
    "\n",
    "    def step(self, action):\n",
    "\n",
    "        terminated = False\n",
    "        truncated = False\n",
    "        info = None\n",
    "        step_reward = 0\n",
    "\n",
    "        transformed_action = ActionTuple(np.array(action[:2]).reshape(1,2).astype(np.float32), np.array(action[-1]).reshape(1,1).astype(np.float32))\n",
    "\n",
    "        self.env.set_actions(behavior_name=self.behavior_name, action=transformed_action)\n",
    "        self.env.step()\n",
    "\n",
    "        decision_steps, terminal_steps = self.env.get_steps(self.behavior_name)\n",
    "        step_reward += decision_steps.reward[0]\n",
    "\n",
    "        for agent_id in terminal_steps:\n",
    "            step_reward += terminal_steps.reward[0]\n",
    "            terminated = True\n",
    "\n",
    "        if not terminated:\n",
    "            observation = decision_steps.obs[0][0]\n",
    "            \n",
    "        else:\n",
    "            observation = []\n",
    "            #self.reset()\n",
    "        \n",
    "        self.state = observation\n",
    "\n",
    "        return observation, step_reward, terminated, truncated, info\n",
    "\n",
    "    def reset(self):\n",
    "        self.env.reset()\n",
    "        self.env.step()\n",
    "        decision_steps, terminal_steps = self.env.get_steps(self.behavior_name)\n",
    "        self.state = decision_steps.obs[0][0]\n",
    "\n",
    "    def close(self):\n",
    "        pass\n",
    "\n",
    "    def set_channel_params(self, width, height, quality_level, time_scale, target_frame_rate, capture_frame_rate):\n",
    "        self.channel.set_configuration_parameters(\n",
    "            width= width,\n",
    "            height= height,\n",
    "            quality_level= quality_level,\n",
    "            time_scale= time_scale,\n",
    "            target_frame_rate= target_frame_rate,\n",
    "            capture_frame_rate= capture_frame_rate,\n",
    "            )\n"
   ]
  },
  {
   "cell_type": "code",
   "execution_count": 3,
   "metadata": {},
   "outputs": [],
   "source": [
    "import onnxruntime as rt\n",
    "\n",
    "# Load Brain\n",
    "sess = rt.InferenceSession(\"trained_brains/FootballPlayer.onnx\")\n",
    "\n",
    "# Params\n",
    "input_name0 = sess.get_inputs()[0].name\n",
    "input_name1= sess.get_inputs()[1].name\n",
    "label_name = sess.get_outputs()[0].name\n",
    "\n",
    "def get_brain_action(observation):\n",
    "\n",
    "    if len(observation) == 0:\n",
    "        return [0,0,0]\n",
    "    \n",
    "    observation = np.concatenate((observation[:15], observation[3:6]-observation[6:9], observation[15:], observation[15+3:15+6]-observation[15+6:15+9]), axis=0)\n",
    "    \n",
    "    a = np.ones((2,2)).astype(np.float32)\n",
    "    new_obs = observation.astype(np.float32)\n",
    "\n",
    "    pred = sess.run(['continuous_actions', 'discrete_actions'], {input_name0: np.array(new_obs).reshape(1,36), input_name1: a})\n",
    "    return np.concatenate((pred[0][0], pred[1][0]), axis=0)"
   ]
  },
  {
   "cell_type": "code",
   "execution_count": 4,
   "metadata": {},
   "outputs": [],
   "source": [
    "# Make Environment\n",
    "env = MiniFootballEnv()\n",
    "env.set_channel_params(\n",
    "    width=848, \n",
    "    height=480, \n",
    "    quality_level=1, \n",
    "    time_scale=100, \n",
    "    target_frame_rate=-1, \n",
    "    capture_frame_rate=60\n",
    "    )"
   ]
  },
  {
   "cell_type": "code",
   "execution_count": 5,
   "metadata": {},
   "outputs": [],
   "source": [
    "env.reset()"
   ]
  },
  {
   "cell_type": "code",
   "execution_count": 6,
   "metadata": {},
   "outputs": [
    {
     "name": "stderr",
     "output_type": "stream",
     "text": [
      "100%|██████████| 100/100 [02:40<00:00,  1.61s/it]\n"
     ]
    },
    {
     "data": {
      "text/plain": [
       "0.965104984366335"
      ]
     },
     "execution_count": 6,
     "metadata": {},
     "output_type": "execute_result"
    }
   ],
   "source": [
    "all_rewards = []\n",
    "\n",
    "for _ in tqdm(range(100)):\n",
    "\n",
    "    terminated = False\n",
    "    steps = 0\n",
    "    episode_reward = 0\n",
    "    observation = env.state\n",
    "\n",
    "    while not terminated:\n",
    "        \n",
    "        action = get_brain_action(observation)\n",
    "        \n",
    "        # Skip 5 Frames\n",
    "        for _ in range(5):\n",
    "            \n",
    "            observation, reward, terminated, _, _ = env.step(action)\n",
    "            episode_reward += reward\n",
    "            steps += 1\n",
    "\n",
    "            if terminated:\n",
    "                break\n",
    "\n",
    "    all_rewards.append(episode_reward)\n",
    "\n",
    "np.mean(all_rewards)"
   ]
  }
 ],
 "metadata": {
  "kernelspec": {
   "display_name": "rl-unity",
   "language": "python",
   "name": "python3"
  },
  "language_info": {
   "codemirror_mode": {
    "name": "ipython",
    "version": 3
   },
   "file_extension": ".py",
   "mimetype": "text/x-python",
   "name": "python",
   "nbconvert_exporter": "python",
   "pygments_lexer": "ipython3",
   "version": "3.9.13"
  },
  "orig_nbformat": 4,
  "vscode": {
   "interpreter": {
    "hash": "56b88cc66ce22b069d89fcd003cc6f13ce5bcd921cd27810ce44aaafd5c8bba8"
   }
  }
 },
 "nbformat": 4,
 "nbformat_minor": 2
}
