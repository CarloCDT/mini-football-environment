{
 "cells": [
  {
   "cell_type": "code",
   "execution_count": 4,
   "metadata": {},
   "outputs": [],
   "source": [
    "import numpy as np\n",
    "from tqdm import tqdm\n",
    "import onnxruntime as rt\n",
    "from mlagents_envs.base_env import ActionTuple\n",
    "from mlagents_envs.environment import UnityEnvironment\n",
    "from mlagents_envs.side_channel.engine_configuration_channel import EngineConfigurationChannel"
   ]
  },
  {
   "cell_type": "code",
   "execution_count": 5,
   "metadata": {},
   "outputs": [],
   "source": [
    "# Load Brain\n",
    "sess = rt.InferenceSession(\"trained_brains/FootballPlayer.onnx\")\n",
    "\n",
    "# Params\n",
    "input_name0 = sess.get_inputs()[0].name\n",
    "input_name1= sess.get_inputs()[1].name\n",
    "label_name = sess.get_outputs()[0].name\n",
    "\n",
    "def get_brain_action(observation):\n",
    "    \n",
    "    a = np.ones((2,2)).astype(np.float32)\n",
    "    new_obs = observation.astype(np.float32)\n",
    "\n",
    "    pred = sess.run(['continuous_actions', 'discrete_actions'], {input_name0: np.array(new_obs).reshape(1,36), input_name1: a})\n",
    "    return pred[0], pred[1][0].reshape(1,1)"
   ]
  },
  {
   "cell_type": "code",
   "execution_count": 6,
   "metadata": {},
   "outputs": [],
   "source": [
    "# This will open the environment\n",
    "channel = EngineConfigurationChannel()\n",
    "env = UnityEnvironment('./mini_football_windows/Mini Football Environment.exe', seed=42, side_channels=[channel])"
   ]
  },
  {
   "cell_type": "code",
   "execution_count": 7,
   "metadata": {},
   "outputs": [],
   "source": [
    "# channel.set_configuration_parameters(\n",
    "#     width= 848,\n",
    "#     height= 480,\n",
    "#     quality_level= 1,\n",
    "#     time_scale= 100,\n",
    "#     target_frame_rate= -1,\n",
    "#     capture_frame_rate= 60,\n",
    "#     )"
   ]
  },
  {
   "cell_type": "code",
   "execution_count": 8,
   "metadata": {},
   "outputs": [],
   "source": [
    "env.step()\n",
    "behavior_name = list(env.behavior_specs)[0]\n",
    "\n",
    "def play_episode():\n",
    "    env.reset()\n",
    "\n",
    "    decision_steps, terminal_steps = env.get_steps(behavior_name)\n",
    "    done = False\n",
    "    step = 0\n",
    "    reward = 0\n",
    "\n",
    "    while not done:\n",
    "        \n",
    "        step += 1\n",
    "\n",
    "        state = decision_steps.obs[0][0]\n",
    "        reward += decision_steps.reward[0]\n",
    "\n",
    "        actions = get_brain_action(state)\n",
    "        action = ActionTuple(actions[0], actions[1])\n",
    "        #action = ActionTuple(get_random_action()[0], get_random_action()[1])\n",
    "        env.set_actions(behavior_name=behavior_name, action=action)\n",
    "        env.step()\n",
    "\n",
    "        decision_steps, terminal_steps = env.get_steps(behavior_name)\n",
    "\n",
    "        for agent_id in terminal_steps:\n",
    "            reward += terminal_steps.reward[0]\n",
    "            done = True\n",
    "\n",
    "    return reward"
   ]
  },
  {
   "cell_type": "code",
   "execution_count": 9,
   "metadata": {},
   "outputs": [
    {
     "name": "stderr",
     "output_type": "stream",
     "text": [
      "100%|██████████| 100/100 [05:12<00:00,  3.12s/it]"
     ]
    },
    {
     "name": "stdout",
     "output_type": "stream",
     "text": [
      "0.9472909977429663\n"
     ]
    },
    {
     "name": "stderr",
     "output_type": "stream",
     "text": [
      "\n"
     ]
    }
   ],
   "source": [
    "env.reset()\n",
    "all_rewards = []\n",
    "for i in tqdm(range(100)):\n",
    "    all_rewards.append(play_episode())\n",
    "\n",
    "print(np.mean(all_rewards))\n",
    "#0.9611509997766552"
   ]
  }
 ],
 "metadata": {
  "kernelspec": {
   "display_name": "rl-unity",
   "language": "python",
   "name": "python3"
  },
  "language_info": {
   "codemirror_mode": {
    "name": "ipython",
    "version": 3
   },
   "file_extension": ".py",
   "mimetype": "text/x-python",
   "name": "python",
   "nbconvert_exporter": "python",
   "pygments_lexer": "ipython3",
   "version": "3.9.13 (tags/v3.9.13:6de2ca5, May 17 2022, 16:36:42) [MSC v.1929 64 bit (AMD64)]"
  },
  "orig_nbformat": 4,
  "vscode": {
   "interpreter": {
    "hash": "56b88cc66ce22b069d89fcd003cc6f13ce5bcd921cd27810ce44aaafd5c8bba8"
   }
  }
 },
 "nbformat": 4,
 "nbformat_minor": 2
}
